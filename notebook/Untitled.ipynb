{
  "nbformat": 4,
  "nbformat_minor": 0,
  "metadata": {
    "colab": {
      "provenance": []
    },
    "kernelspec": {
      "name": "python3",
      "display_name": "Python 3"
    },
    "language_info": {
      "name": "python"
    }
  },
  "cells": [
    {
      "cell_type": "markdown",
      "source": [
        "# Introduction to Python\n",
        "Python is a versatile programming language that's easy to learn and widely used across various fields, such as web development, data analysis, artificial intelligence, automation, and more.\n",
        "\n"
      ],
      "metadata": {
        "id": "Ak3eLFonmbMD"
      }
    },
    {
      "cell_type": "markdown",
      "source": [
        "# Advantages of Python:\n",
        "\n",
        "\n",
        "1.   **Simple and Clear Syntax**: Python has a simple and readable syntax, making it an excellent choice for beginners. For example, writing \"Hello, World!\" in Python only requires one line of code:\n",
        "\n",
        "  `print(\"Hello, World!\")`\n",
        "\n",
        "2.   **Rich Libraries and Frameworks**: Python has a vast collection of libraries and frameworks, such as:\n",
        "  * **Pandas** and **NumPy** for data analysis.\n",
        "  * **Django** and **Flask** for web development.\n",
        "  * **TensorFlow** and **PyTorch** for machine learning.\n",
        "  * **Selenium** for web automation.\n",
        "\n",
        "3. **Widespread Use**: Python is used in various industries and applications, from web development to artificial intelligence, making Python skills highly valuable in the job market.\n",
        "\n",
        "4. **Active Community**: Python has a very active community and extensive support, with many tutorials, documentation, and learning resources available online.\n",
        "\n",
        "\n",
        "\n",
        "\n",
        "\n"
      ],
      "metadata": {
        "id": "9Xk7gp73sojk"
      }
    },
    {
      "cell_type": "markdown",
      "source": [
        "# Installation\n",
        "https://www.python.org/downloads/"
      ],
      "metadata": {
        "id": "NOUFu7xZvqHy"
      }
    },
    {
      "cell_type": "markdown",
      "source": [
        "# Flask Framework\n",
        "Flask is a lightweight and flexible web framework for Python. It is designed to be easy to use, providing the essentials needed to get a web application up and running quickly, while still allowing for scalability and extensibility.\n",
        "\n",
        "## Key Features of Flask:\n",
        "* Lightweight: Flask is minimalistic, giving you the core tools you need to build web applications without imposing too much structure.\n",
        "* Modular: Flask is designed to be highly modular, allowing you to add extensions to extend its functionality as needed.\n",
        "* Built-in Development Server: Flask comes with a built-in development server, making it easy to test your application locally.\n",
        "* Jinja2 Templating Engine: Flask uses the Jinja2 templating engine, allowing you to separate your HTML (views) from your Python code (logic).\n",
        "* Routing: Flask has a simple yet powerful routing system that allows you to map URLs to Python functions.\n",
        "\n"
      ],
      "metadata": {
        "id": "9_oIGpBs4tX7"
      }
    },
    {
      "cell_type": "markdown",
      "source": [
        "### Getting Started with Flask:\n",
        "\n",
        "\n",
        "1. Installation\n",
        "\n",
        "    `pip install Flask`\n",
        "\n",
        "2. Basic Flask Application\n",
        "    ```\n",
        "    from flask import Flask\n",
        "\n",
        "    app = Flask(__name__)\n",
        "\n",
        "    @app.route('/')\n",
        "    def home():\n",
        "      return \"Hello, Flask!\"\n",
        "\n",
        "    if __name__ == '__main__':\n",
        "      app.run(debug=True)\n",
        "    ```\n",
        "\n",
        "\n",
        "3. Routing\n",
        "\n",
        "    ```\n",
        "    @app.route('/hello/<name>')\n",
        "    def hello(name):\n",
        "        return f\"Hello, {name}!\"\n",
        "\n",
        "    ```\n",
        "4. Templating\n",
        "  \n",
        "    templates/hello.html\n",
        "    ```\n",
        "    <!doctype html>\n",
        "    <html lang=\"en\">\n",
        "    <head>\n",
        "        <meta charset=\"UTF-8\">\n",
        "        <title>Hello</title>\n",
        "    </head>\n",
        "    <body>\n",
        "        <h1>Hello, {{ name }}!</h1>\n",
        "    </body>\n",
        "    </html>\n",
        "    ```\n",
        "\n",
        "    render template\n",
        "    ```\n",
        "    from flask import render_template\n",
        "\n",
        "    @app.route('/hello/<name>')\n",
        "    def hello(name):\n",
        "        return render_template('hello.html', name=name)\n",
        "\n",
        "    ```\n",
        "\n",
        "5. Deployment\n",
        "    ```\n",
        "    python main.py\n",
        "    ```"
      ],
      "metadata": {
        "id": "9pR30aPB5caO"
      }
    },
    {
      "cell_type": "markdown",
      "source": [],
      "metadata": {
        "id": "CsNPpYkRX90s"
      }
    }
  ]
}